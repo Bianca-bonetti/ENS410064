{
 "cells": [
  {
   "cell_type": "markdown",
   "id": "42447a8b-fdc8-4828-b8de-a1dde9d346da",
   "metadata": {},
   "source": [
    "# Aula 01\n",
    "Nesta aula vamos trabalhar com os comandos básicos do Python.\n",
    "\n",
    "- Tipo de variáveis\n",
    "- Operações matemáticas\n",
    "- Uso de pacotes\n",
    "- Numpy array\n",
    "- Condições"
   ]
  },
  {
   "cell_type": "markdown",
   "id": "98d0606a-9fd7-46b9-86f7-dcb0df6d8f25",
   "metadata": {},
   "source": [
    "## Tipos de variáveis"
   ]
  },
  {
   "cell_type": "code",
   "execution_count": 3,
   "id": "f5962eb3-f540-464c-ad0d-0efa3270d07a",
   "metadata": {},
   "outputs": [
    {
     "name": "stdout",
     "output_type": "stream",
     "text": [
      "O valor de a é igual a 1\n",
      "<class 'int'>\n"
     ]
    }
   ],
   "source": [
    "# números inteiros\n",
    "\n",
    "a=1\n",
    "print(\"O valor de a é igual a \"+ str(a))\n",
    "print(type(a))"
   ]
  },
  {
   "cell_type": "code",
   "execution_count": 6,
   "id": "ff0b8318-b042-4122-b6c2-e7fe975a237a",
   "metadata": {},
   "outputs": [],
   "source": [
    "# número float (pegar do git do professor)"
   ]
  },
  {
   "cell_type": "code",
   "execution_count": 5,
   "id": "fa2259fc-a3bc-46a9-8097-d16cdd17e0a7",
   "metadata": {},
   "outputs": [],
   "source": [
    "# texto- - char - string "
   ]
  },
  {
   "cell_type": "code",
   "execution_count": 10,
   "id": "f3cce16e-260b-49ec-9485-dd079e3b46c5",
   "metadata": {},
   "outputs": [
    {
     "name": "stdout",
     "output_type": "stream",
     "text": [
      "['Marcos', 'Maria Eduarda', 'Djesser', 'Rafael']\n",
      "<class 'list'>\n",
      "4\n",
      "[1, 2, 3, 10, 7]\n",
      "[10, 10, 10, 6.5, 'José', 'Marcos', 'Rafael', 'Bruno']\n"
     ]
    }
   ],
   "source": [
    "# Lista de texto\n",
    "\n",
    "namesList = ['Marcos', 'Maria Eduarda', 'Djesser', 'Rafael']\n",
    "\n",
    "print(namesList)\n",
    "\n",
    "print(type(namesList))\n",
    "\n",
    "# camando para identificar o tamanho da lista\n",
    "print(len(namesList)) \n",
    "\n",
    "# agora uma lista de números\n",
    "\n",
    "numList = [1,2,3,10,7]\n",
    "print(numList)\n",
    "\n",
    "# Agora, uma lista de numeros e strings\n",
    "\n",
    "numNameList = [10,10,10,6.5,'José', 'Marcos', 'Rafael', 'Bruno']\n",
    "\n",
    "print(numNameList)"
   ]
  },
  {
   "cell_type": "code",
   "execution_count": 12,
   "id": "f364b935-3de1-462a-8758-180b5ff7b197",
   "metadata": {},
   "outputs": [
    {
     "name": "stdout",
     "output_type": "stream",
     "text": [
      "Marcos\n"
     ]
    }
   ],
   "source": [
    "# acessando os valores da Lista\n",
    "\n",
    "print(namesList[0])"
   ]
  },
  {
   "cell_type": "code",
   "execution_count": 16,
   "id": "f00e3b49-0dd6-41ce-9f35-8e3c213eb076",
   "metadata": {},
   "outputs": [
    {
     "name": "stdout",
     "output_type": "stream",
     "text": [
      "<class 'dict'>\n",
      "[1.95, 1.67, 1.63]\n",
      "Larissa\n"
     ]
    }
   ],
   "source": [
    "# Dicionários\n",
    "\n",
    "namesDict = {\n",
    "    'name': ['Marcos', 'Larissa', 'Daphne'],\n",
    "    'Altura': [1.95,1.67,1.63]\n",
    "}\n",
    "\n",
    "print(type(namesDict))\n",
    "\n",
    "# Extraindo os valores das variáveis Altura dentro do dicionário namesDict\n",
    "\n",
    "print(namesDict['Altura'])\n",
    "\n",
    "# Extraindo o segundo valor da variável dentro do dicionário\n",
    "\n",
    "print(namesDict['name'][1])"
   ]
  },
  {
   "cell_type": "markdown",
   "id": "067fedc0-6f9f-4bb1-80db-164a953b8451",
   "metadata": {},
   "source": [
    "## Operações matemáticas"
   ]
  },
  {
   "cell_type": "code",
   "execution_count": 19,
   "id": "774006ae-9b2a-43c3-b697-bfb474af0a32",
   "metadata": {},
   "outputs": [
    {
     "name": "stdout",
     "output_type": "stream",
     "text": [
      "1.95\n",
      "1.67\n",
      "1.63\n",
      "A soma das alturas é igual a 5.25\n"
     ]
    },
    {
     "data": {
      "text/plain": [
       "[1.95, 1.67, 1.63]"
      ]
     },
     "execution_count": 19,
     "metadata": {},
     "output_type": "execute_result"
    }
   ],
   "source": [
    "# Soma das alturas do dicionário namesDict\n",
    "somaDasAlturas = 0\n",
    "for alturas in namesDict['Altura']:\n",
    "    print(alturas)\n",
    "    somaDasAlturas = somaDasAlturas+alturas\n",
    "\n",
    "print('A soma das alturas é igual a '+ str(somaDasAlturas))\n",
    "namesDict['Altura']"
   ]
  },
  {
   "cell_type": "code",
   "execution_count": null,
   "id": "72df1d23-08fd-4b88-9a39-b3a3bec9119c",
   "metadata": {},
   "outputs": [],
   "source": []
  }
 ],
 "metadata": {
  "kernelspec": {
   "display_name": "Python 3 (ipykernel)",
   "language": "python",
   "name": "python3"
  },
  "language_info": {
   "codemirror_mode": {
    "name": "ipython",
    "version": 3
   },
   "file_extension": ".py",
   "mimetype": "text/x-python",
   "name": "python",
   "nbconvert_exporter": "python",
   "pygments_lexer": "ipython3",
   "version": "3.9.5"
  }
 },
 "nbformat": 4,
 "nbformat_minor": 5
}
