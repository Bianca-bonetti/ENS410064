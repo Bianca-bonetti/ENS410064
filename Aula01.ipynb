{
 "cells": [
  {
   "cell_type": "markdown",
   "id": "234dff73-43ed-455c-8ebb-7fac7a10c05e",
   "metadata": {},
   "source": [
    "# Tópicos especiais: Python in Environmental Applications\n",
    "## Aula 01"
   ]
  },
  {
   "cell_type": "code",
   "execution_count": null,
   "id": "d6288ebd-48dd-46c2-afcb-6e822cc4cc5d",
   "metadata": {},
   "outputs": [],
   "source": []
  }
 ],
 "metadata": {
  "kernelspec": {
   "display_name": "Python 3 (ipykernel)",
   "language": "python",
   "name": "python3"
  },
  "language_info": {
   "codemirror_mode": {
    "name": "ipython",
    "version": 3
   },
   "file_extension": ".py",
   "mimetype": "text/x-python",
   "name": "python",
   "nbconvert_exporter": "python",
   "pygments_lexer": "ipython3",
   "version": "3.9.5"
  }
 },
 "nbformat": 4,
 "nbformat_minor": 5
}
